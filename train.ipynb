{
 "cells": [
  {
   "cell_type": "code",
   "execution_count": 18,
   "metadata": {},
   "outputs": [],
   "source": [
    "from ctypes import *\n",
    "from ctypes.util import find_library\n",
    "from os import path\n",
    "import sys\n",
    "import pandas as pd\n",
    "import os\n",
    "import numpy as np\n",
    "import matplotlib.pyplot as plt\n",
    "from libsvm.svmutil import *\n",
    "import xlrd"
   ]
  },
  {
   "cell_type": "code",
   "execution_count": 5,
   "metadata": {},
   "outputs": [],
   "source": [
    "cv_rec = pd.DataFrame(columns = ['d=1', 'd=2', 'd=3', 'd=4'], index = [i for i in range(-15,16)])\n",
    "cv_rec.index.name = 'C'\n",
    "train_scaled, test_scaled = pd.read_csv('train_scaled.data'), pd.read_csv('test_scaled.data')"
   ]
  },
  {
   "cell_type": "code",
   "execution_count": 6,
   "metadata": {},
   "outputs": [
    {
     "name": "stdout",
     "output_type": "stream",
     "text": [
      "Cross Validation Accuracy = 65.6559%\n",
      "Cross Validation Accuracy = 65.6559%\n",
      "Cross Validation Accuracy = 65.6559%\n",
      "Cross Validation Accuracy = 65.6559%\n",
      "Cross Validation Accuracy = 65.6559%\n",
      "Cross Validation Accuracy = 65.6559%\n",
      "Cross Validation Accuracy = 65.6559%\n",
      "Cross Validation Accuracy = 65.6559%\n",
      "Cross Validation Accuracy = 65.7836%\n",
      "Cross Validation Accuracy = 78.5828%\n",
      "Cross Validation Accuracy = 80.5298%\n",
      "Cross Validation Accuracy = 81.264%\n",
      "Cross Validation Accuracy = 81.0086%\n",
      "Cross Validation Accuracy = 81.1682%\n",
      "Cross Validation Accuracy = 81.6151%\n",
      "Cross Validation Accuracy = 81.9981%\n",
      "Cross Validation Accuracy = 82.5726%\n",
      "Cross Validation Accuracy = 83.1152%\n",
      "Cross Validation Accuracy = 83.5302%\n",
      "Cross Validation Accuracy = 83.4344%\n",
      "Cross Validation Accuracy = 83.5621%\n",
      "Cross Validation Accuracy = 83.3706%\n",
      "Cross Validation Accuracy = 83.2429%\n",
      "Cross Validation Accuracy = 83.1152%\n",
      "Cross Validation Accuracy = 83.4344%\n",
      "Cross Validation Accuracy = 83.3067%\n",
      "Cross Validation Accuracy = 83.2748%\n",
      "Cross Validation Accuracy = 83.2748%\n",
      "Cross Validation Accuracy = 83.3067%\n",
      "Cross Validation Accuracy = 83.3706%\n",
      "Cross Validation Accuracy = 83.4344%\n",
      "Cross Validation Accuracy = 65.6559%\n",
      "Cross Validation Accuracy = 65.6559%\n",
      "Cross Validation Accuracy = 65.6559%\n",
      "Cross Validation Accuracy = 65.6559%\n",
      "Cross Validation Accuracy = 65.6559%\n",
      "Cross Validation Accuracy = 65.6559%\n",
      "Cross Validation Accuracy = 65.6559%\n",
      "Cross Validation Accuracy = 65.6559%\n",
      "Cross Validation Accuracy = 65.6878%\n",
      "Cross Validation Accuracy = 76.572%\n",
      "Cross Validation Accuracy = 80.4341%\n",
      "Cross Validation Accuracy = 81.4236%\n",
      "Cross Validation Accuracy = 81.6789%\n",
      "Cross Validation Accuracy = 81.9342%\n",
      "Cross Validation Accuracy = 82.6045%\n",
      "Cross Validation Accuracy = 83.2748%\n",
      "Cross Validation Accuracy = 83.211%\n",
      "Cross Validation Accuracy = 83.4025%\n",
      "Cross Validation Accuracy = 83.3706%\n",
      "Cross Validation Accuracy = 83.6578%\n",
      "Cross Validation Accuracy = 83.8493%\n",
      "Cross Validation Accuracy = 83.9451%\n",
      "Cross Validation Accuracy = 84.1047%\n",
      "Cross Validation Accuracy = 84.2643%\n",
      "Cross Validation Accuracy = 84.4877%\n",
      "Cross Validation Accuracy = 84.2962%\n",
      "Cross Validation Accuracy = 84.5515%\n",
      "Cross Validation Accuracy = 84.4558%\n",
      "Cross Validation Accuracy = 84.392%\n",
      "Cross Validation Accuracy = 84.6154%\n",
      "Cross Validation Accuracy = 84.4877%\n",
      "Cross Validation Accuracy = 65.6559%\n",
      "Cross Validation Accuracy = 65.6559%\n",
      "Cross Validation Accuracy = 65.6559%\n",
      "Cross Validation Accuracy = 65.6559%\n",
      "Cross Validation Accuracy = 65.6559%\n",
      "Cross Validation Accuracy = 65.6559%\n",
      "Cross Validation Accuracy = 65.6559%\n",
      "Cross Validation Accuracy = 65.6559%\n",
      "Cross Validation Accuracy = 65.6559%\n",
      "Cross Validation Accuracy = 69.2627%\n",
      "Cross Validation Accuracy = 76.7954%\n",
      "Cross Validation Accuracy = 79.7%\n",
      "Cross Validation Accuracy = 81.0405%\n",
      "Cross Validation Accuracy = 81.7747%\n",
      "Cross Validation Accuracy = 81.9342%\n",
      "Cross Validation Accuracy = 82.4449%\n",
      "Cross Validation Accuracy = 82.8599%\n",
      "Cross Validation Accuracy = 82.9876%\n",
      "Cross Validation Accuracy = 82.9556%\n",
      "Cross Validation Accuracy = 83.0833%\n",
      "Cross Validation Accuracy = 83.3706%\n",
      "Cross Validation Accuracy = 83.7855%\n",
      "Cross Validation Accuracy = 83.7536%\n",
      "Cross Validation Accuracy = 84.0089%\n",
      "Cross Validation Accuracy = 84.0089%\n",
      "Cross Validation Accuracy = 84.0728%\n",
      "Cross Validation Accuracy = 84.36%\n",
      "Cross Validation Accuracy = 84.5515%\n",
      "Cross Validation Accuracy = 84.3281%\n",
      "Cross Validation Accuracy = 84.5835%\n",
      "Cross Validation Accuracy = 84.36%\n",
      "Cross Validation Accuracy = 65.6559%\n",
      "Cross Validation Accuracy = 65.6559%\n",
      "Cross Validation Accuracy = 65.6559%\n",
      "Cross Validation Accuracy = 65.6559%\n",
      "Cross Validation Accuracy = 65.6559%\n",
      "Cross Validation Accuracy = 65.6559%\n",
      "Cross Validation Accuracy = 65.6559%\n",
      "Cross Validation Accuracy = 65.6559%\n",
      "Cross Validation Accuracy = 65.6559%\n",
      "Cross Validation Accuracy = 65.7198%\n",
      "Cross Validation Accuracy = 71.4331%\n",
      "Cross Validation Accuracy = 76.2528%\n",
      "Cross Validation Accuracy = 79.0935%\n",
      "Cross Validation Accuracy = 80.466%\n",
      "Cross Validation Accuracy = 81.4874%\n",
      "Cross Validation Accuracy = 81.8066%\n",
      "Cross Validation Accuracy = 82.0938%\n",
      "Cross Validation Accuracy = 82.6684%\n",
      "Cross Validation Accuracy = 82.6045%\n",
      "Cross Validation Accuracy = 82.5407%\n",
      "Cross Validation Accuracy = 82.9556%\n",
      "Cross Validation Accuracy = 83.4344%\n",
      "Cross Validation Accuracy = 83.9451%\n",
      "Cross Validation Accuracy = 83.9451%\n",
      "Cross Validation Accuracy = 83.977%\n",
      "Cross Validation Accuracy = 84.1047%\n",
      "Cross Validation Accuracy = 84.0089%\n",
      "Cross Validation Accuracy = 84.4239%\n",
      "Cross Validation Accuracy = 84.4877%\n",
      "Cross Validation Accuracy = 84.392%\n",
      "Cross Validation Accuracy = 84.1047%\n"
     ]
    },
    {
     "data": {
      "text/html": [
       "<div>\n",
       "<style scoped>\n",
       "    .dataframe tbody tr th:only-of-type {\n",
       "        vertical-align: middle;\n",
       "    }\n",
       "\n",
       "    .dataframe tbody tr th {\n",
       "        vertical-align: top;\n",
       "    }\n",
       "\n",
       "    .dataframe thead th {\n",
       "        text-align: right;\n",
       "    }\n",
       "</style>\n",
       "<table border=\"1\" class=\"dataframe\">\n",
       "  <thead>\n",
       "    <tr style=\"text-align: right;\">\n",
       "      <th></th>\n",
       "      <th>d=1</th>\n",
       "      <th>d=2</th>\n",
       "      <th>d=3</th>\n",
       "      <th>d=4</th>\n",
       "    </tr>\n",
       "    <tr>\n",
       "      <th>C</th>\n",
       "      <th></th>\n",
       "      <th></th>\n",
       "      <th></th>\n",
       "      <th></th>\n",
       "    </tr>\n",
       "  </thead>\n",
       "  <tbody>\n",
       "    <tr>\n",
       "      <th>-15</th>\n",
       "      <td>0.343441</td>\n",
       "      <td>0.343441</td>\n",
       "      <td>0.343441</td>\n",
       "      <td>0.343441</td>\n",
       "    </tr>\n",
       "    <tr>\n",
       "      <th>-14</th>\n",
       "      <td>0.343441</td>\n",
       "      <td>0.343441</td>\n",
       "      <td>0.343441</td>\n",
       "      <td>0.343441</td>\n",
       "    </tr>\n",
       "    <tr>\n",
       "      <th>-13</th>\n",
       "      <td>0.343441</td>\n",
       "      <td>0.343441</td>\n",
       "      <td>0.343441</td>\n",
       "      <td>0.343441</td>\n",
       "    </tr>\n",
       "    <tr>\n",
       "      <th>-12</th>\n",
       "      <td>0.343441</td>\n",
       "      <td>0.343441</td>\n",
       "      <td>0.343441</td>\n",
       "      <td>0.343441</td>\n",
       "    </tr>\n",
       "    <tr>\n",
       "      <th>-11</th>\n",
       "      <td>0.343441</td>\n",
       "      <td>0.343441</td>\n",
       "      <td>0.343441</td>\n",
       "      <td>0.343441</td>\n",
       "    </tr>\n",
       "  </tbody>\n",
       "</table>\n",
       "</div>"
      ],
      "text/plain": [
       "          d=1       d=2       d=3       d=4\n",
       "C                                          \n",
       "-15  0.343441  0.343441  0.343441  0.343441\n",
       "-14  0.343441  0.343441  0.343441  0.343441\n",
       "-13  0.343441  0.343441  0.343441  0.343441\n",
       "-12  0.343441  0.343441  0.343441  0.343441\n",
       "-11  0.343441  0.343441  0.343441  0.343441"
      ]
     },
     "execution_count": 6,
     "metadata": {},
     "output_type": "execute_result"
    }
   ],
   "source": [
    "d_list = [1,2,3,4]\n",
    "c_list = [2**(i) for i in range(-15,16)]\n",
    "y_train, X_train = svm_read_problem('train_scaled.data')\n",
    "for i in range(4):\n",
    "    result = []\n",
    "    d = i+1\n",
    "    for c in range(-15,16):\n",
    "        result.append(svm_train(y_train, X_train, '-t 1 -d '+str(d) +' -c '+str(2**(c)) +' -v 10'))\n",
    "    cv_rec.iloc[:,i] = result\n",
    "    \n",
    "cv_error = cv_rec.transform(lambda x: 1-x/100)\n"
   ]
  },
  {
   "cell_type": "code",
   "execution_count": 7,
   "metadata": {},
   "outputs": [],
   "source": [
    "for i in range(4):\n",
    "    std = cv_error.iloc[:,i].std()\n",
    "    plt.plot(cv_error.index, cv_error.iloc[:,i])\n",
    "    plt.plot(cv_error.index, cv_error.iloc[:,i] + std)\n",
    "    plt.plot(cv_error.index, cv_error.iloc[:,i] - std)\n",
    "    \n",
    "    plt.legend(['error + 1 std', 'error','error - 1 std'])\n",
    "    plt.title('d='+str(i+1))\n",
    "    plt.show()\n",
    "    \n",
    "print('global min is: ')(cv_error.min(axis=1).idxmin(), cv_error.min().idxmin())"
   ]
  },
  {
   "cell_type": "markdown",
   "metadata": {},
   "source": []
  },
  {
   "cell_type": "code",
   "execution_count": 10,
   "metadata": {},
   "outputs": [],
   "source": [
    "model = svm_train(y_train,X_train,'-t 1 -d 2 -c 16384')\n",
    "svm_save_model('model.data', model)"
   ]
  },
  {
   "cell_type": "code",
   "execution_count": 13,
   "metadata": {},
   "outputs": [
    {
     "name": "stdout",
     "output_type": "stream",
     "text": [
      "Accuracy = 74.7126% (780/1044) (classification)\n",
      "Accuracy = 48.2759% (504/1044) (classification)\n",
      "Accuracy = 65.2299% (681/1044) (classification)\n",
      "Accuracy = 30.9387% (323/1044) (classification)\n"
     ]
    }
   ],
   "source": [
    "y_test, X_test = svm_read_problem('test_scaled.data')\n",
    "plot_y_f = cv_error.loc[10]\n",
    "plot_y_s = []\n",
    "\n",
    "for i in range(4):\n",
    "    d = i+1\n",
    "    model = svm_train(y_train, X_train, '-t 1 -d '+str(d) +' -c 16384')\n",
    "    test_err = svm_predict(y_test, X_test, model)\n",
    "    plot_y_s.append(1 - test_err[1][0]/100)"
   ]
  },
  {
   "cell_type": "code",
   "execution_count": 14,
   "metadata": {},
   "outputs": [
    {
     "data": {
      "image/png": "[encoded data removed]",
      "text/plain": [
       "<Figure size 432x288 with 1 Axes>"
      ]
     },
     "metadata": {
      "needs_background": "light"
     },
     "output_type": "display_data"
    }
   ],
   "source": [
    "plt.plot([1,2,3,4], plot_y_f)\n",
    "plt.plot([1,2,3,4], plot_y_s)\n",
    "plt.title('test errors and cv-errors')\n",
    "plt.legend(['cv-error','test-error'])\n",
    "plt.xlabel('d')\n",
    "plt.ylabel('error')\n",
    "plt.show()"
   ]
  },
  {
   "cell_type": "code",
   "execution_count": 19,
   "metadata": {},
   "outputs": [],
   "source": [
    "nSV = []\n",
    "nBSV = []\n",
    "for i in range(4):\n",
    "    file_name = 'd='+str(i+1)+'.xlsx'\n",
    "    data = pd.read_excel(file_name)\n",
    "    nSV.append(data['nSV'].mean())\n",
    "    nBSV.append(data['nBSV'].mean())"
   ]
  },
  {
   "cell_type": "code",
   "execution_count": 20,
   "metadata": {},
   "outputs": [
    {
     "data": {
      "image/png": "[encoded data removed]",
      "text/plain": [
       "<Figure size 432x288 with 1 Axes>"
      ]
     },
     "metadata": {
      "needs_background": "light"
     },
     "output_type": "display_data"
    }
   ],
   "source": [
    "plt.plot([1,2,3,4], nSV)\n",
    "plt.plot([1,2,3,4], nBSV)\n",
    "plt.title('Support Vectors and Support Vectors on The Margin')\n",
    "plt.legend(['nSV','nBSV'])\n",
    "plt.xlabel('d')\n",
    "plt.show()"
   ]
  },
  {
   "cell_type": "code",
   "execution_count": null,
   "metadata": {},
   "outputs": [],
   "source": []
  }
 ],
 "metadata": {
  "kernelspec": {
   "display_name": "Python 3",
   "language": "python",
   "name": "python3"
  },
  "language_info": {
   "codemirror_mode": {
    "name": "ipython",
    "version": 3
   },
   "file_extension": ".py",
   "mimetype": "text/x-python",
   "name": "python",
   "nbconvert_exporter": "python",
   "pygments_lexer": "ipython3",
   "version": "3.7.8"
  }
 },
 "nbformat": 4,
 "nbformat_minor": 4
}
